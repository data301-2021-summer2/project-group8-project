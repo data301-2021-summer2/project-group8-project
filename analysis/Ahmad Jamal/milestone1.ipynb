{
 "cells": [
  {
   "cell_type": "code",
   "execution_count": null,
   "id": "0ebb088a-e0df-4945-88dc-b501561f78d0",
   "metadata": {},
   "outputs": [],
   "source": [
    "# Reads the CSV from a relative path\n",
    "import pandas as pd\n",
    "\n",
    "# Reads the data from the file location\n",
    "data = pd.read_csv(\"../../data/raw/Vancouver.csv\") \n",
    "\n",
    "# Displays first five rows of the CSV file\n",
    "data.head()\n",
    "\n",
    "# If you want to display all the rows, just uncomment the comment \"data\"\n",
    "# data"
   ]
  },
  {
   "cell_type": "code",
   "execution_count": null,
   "id": "5d150a54-9667-4a31-a669-40cf47930b1f",
   "metadata": {},
   "outputs": [],
   "source": [
    "# Reads the CSV from a link\n",
    "import pandas as pd\n",
    "\n",
    "# Reads the data from the file location\n",
    "data = pd.read_csv(\"http://data.insideairbnb.com/canada/bc/vancouver/2021-04-12/data/listings.csv.gz\") \n",
    "\n",
    "# Displays first five rows of the CSV file\n",
    "data.head()\n",
    "\n",
    "# If you want to display all the rows, just uncomment the comment \"data\"\n",
    "# data"
   ]
  }
 ],
 "metadata": {
  "kernelspec": {
   "display_name": "Python 3 (ipykernel)",
   "language": "python",
   "name": "python3"
  },
  "language_info": {
   "codemirror_mode": {
    "name": "ipython",
    "version": 3
   },
   "file_extension": ".py",
   "mimetype": "text/x-python",
   "name": "python",
   "nbconvert_exporter": "python",
   "pygments_lexer": "ipython3",
   "version": "3.8.5"
  }
 },
 "nbformat": 4,
 "nbformat_minor": 5
}
