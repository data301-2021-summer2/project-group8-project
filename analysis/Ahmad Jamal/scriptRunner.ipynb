{
 "cells": [
  {
   "cell_type": "code",
   "execution_count": 10,
   "id": "61ad1904-cc0a-4a50-9b1c-14a0a69083f5",
   "metadata": {},
   "outputs": [
    {
     "name": "stdout",
     "output_type": "stream",
     "text": [
      "/Users/ahmadrazajamal/Desktop/project-group8-project/analysis/Ahmad Jamal\n"
     ]
    }
   ],
   "source": [
    "# from scripts import project_functions # This is called a relative import\n",
    "# df = project_functions.load_and_process(\"../../data/raw/Vancouver.csv\")\n",
    "# df.head()\n",
    "import os\n",
    "print(os.getcwd())"
   ]
  },
  {
   "cell_type": "code",
   "execution_count": null,
   "id": "79b5f9d4-6e6d-48fc-82e3-a5b0a392b73b",
   "metadata": {},
   "outputs": [],
   "source": []
  }
 ],
 "metadata": {
  "kernelspec": {
   "display_name": "Python 3",
   "language": "python",
   "name": "python3"
  },
  "language_info": {
   "codemirror_mode": {
    "name": "ipython",
    "version": 3
   },
   "file_extension": ".py",
   "mimetype": "text/x-python",
   "name": "python",
   "nbconvert_exporter": "python",
   "pygments_lexer": "ipython3",
   "version": "3.9.1"
  }
 },
 "nbformat": 4,
 "nbformat_minor": 5
}
