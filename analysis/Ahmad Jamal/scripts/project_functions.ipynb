{
 "cells": [
  {
   "cell_type": "code",
   "execution_count": null,
   "id": "4d7910b7-cb6c-4c7c-a30f-0256d984db59",
   "metadata": {},
   "outputs": [],
   "source": [
    "import pandas as pd\n",
    "import numpy as np"
   ]
  },
  {
   "cell_type": "code",
   "execution_count": 1,
   "id": "9b1fb38e-a1be-47c6-9091-d38552c15f27",
   "metadata": {},
   "outputs": [],
   "source": [
    "def load_and_process(url_or_path_to_csv_file):\n",
    "\n",
    "    # Method Chain 1 (Load data and deal with missing data)\n",
    "\n",
    "    df1 = (\n",
    "          pd.read_csv(url_or_path_to_csv_file)\n",
    "          .rename(columns={\n",
    "                    \"id\": \"Airbnb_Id\",\n",
    "                    \"neighbourhood_cleansed\": \"Neighbourhood\",\n",
    "                    \"host_response_time\": \"Host_ResponseTime\",\n",
    "                    \"host_is_superhost\": \"Superhost\",\n",
    "                    \"property_type\": \"Property_Type\",\n",
    "                    \"room_type\": \"Room_Type\",\n",
    "                    \"bathrooms_text\": \"Num_Baths_Detailed\",\n",
    "                    \"bedrooms\": \"Num_Bedrooms\",\n",
    "                    \"beds\": \"Num_Bedrooms\",\n",
    "                    \"price\": \"Price_per_Night\",\n",
    "                    \"amenities\": \"Amenities\",\n",
    "                    \"minimum_nights\": \"Minimum_Nights\",\n",
    "                    \"availability_365\": \"Availablility_365Days\",\n",
    "                    \"number_of_reviews\": \"Num_Reviews\",\n",
    "                    \"review_scores_accuracy\": \"Accuray_ReviewScore\",\n",
    "                    \"review_scores_cleanliness\": \"Cleanliness_ReviewScore\",\n",
    "                    \"review_scores_communication\": \"Communication_ReviewScore\",\n",
    "                    \"review_scores_value\": \"Value_ReviewScore\",\n",
    "                    \"calculated_host_listings_count\": \"Num_Host_Listings\"\n",
    "                    }, errors= \"raise\")\n",
    "            .dropna()\n",
    "      )\n",
    "\n",
    "    # Method Chain 2 (Create new columns, drop others, and do processing)\n",
    "\n",
    "    df2 = (\n",
    "          df1\n",
    "            .insert(7, \"Num_Baths\", cleanedDF[\"Num_Baths_Detailed\"].apply(lambda x: (x[0])))\n",
    "            .apply(lambda x: x == \"t\")\n",
    "            .set_index('Airbnb_Id', inplace=True)\n",
    "          )\n",
    "\n",
    "    # Make sure to return the latest dataframe\n",
    "\n",
    "    return df2 "
   ]
  },
  {
   "cell_type": "code",
   "execution_count": null,
   "id": "6e6d320e-e80f-411b-b737-5288577cb8f0",
   "metadata": {},
   "outputs": [],
   "source": []
  }
 ],
 "metadata": {
  "kernelspec": {
   "display_name": "Python 3",
   "language": "python",
   "name": "python3"
  },
  "language_info": {
   "codemirror_mode": {
    "name": "ipython",
    "version": 3
   },
   "file_extension": ".py",
   "mimetype": "text/x-python",
   "name": "python",
   "nbconvert_exporter": "python",
   "pygments_lexer": "ipython3",
   "version": "3.9.1"
  }
 },
 "nbformat": 4,
 "nbformat_minor": 5
}
