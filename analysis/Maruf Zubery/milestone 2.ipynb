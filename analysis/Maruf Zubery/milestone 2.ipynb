{
 "cells": [
  {
   "cell_type": "code",
   "execution_count": 176,
   "id": "74815685",
   "metadata": {},
   "outputs": [],
   "source": [
    "# Import statements \n",
    "\n",
    "import pandas as pd\n",
    "import seaborn as sns\n",
    "import numpy as np\n",
    "import os\n",
    "import matplotlib.pyplot as plt"
   ]
  },
  {
   "cell_type": "code",
   "execution_count": 177,
   "id": "c62ac4de",
   "metadata": {
    "scrolled": true
   },
   "outputs": [],
   "source": [
    "\n",
    "# Method Chain 1 (Load data and deal with missing data)\n",
    "    \n",
    "# Loading the data into dataframe variable called df and printing the first 5 rows\n",
    "        \n",
    "               \n",
    "df=pd.read_csv('C:\\\\Users\\\\Maruf Zubery\\\\cosc301\\\\project\\\\project-group8-project\\\\data\\\\raw\\\\Vancouver.csv')\n",
    "df.head()\n",
    "\n",
    "#Getting Desired columns from dataset into a  new pandas series\n",
    "\n",
    "clean_df=df[['id',\n",
    "        'neighbourhood_cleansed',\n",
    "        'host_response_time',\n",
    "        'host_is_superhost',\n",
    "        'host_listings_count',\n",
    "        'property_type',\n",
    "        'room_type',\n",
    "        'accommodates',\n",
    "        'bathrooms_text',\n",
    "        'bedrooms',\n",
    "        'beds',\n",
    "        'amenities',\n",
    "        'price',\n",
    "        'minimum_nights',\n",
    "        'maximum_nights',\n",
    "        'availability_30',\n",
    "        'availability_60',\n",
    "        'availability_90',\n",
    "        'availability_365',\n",
    "        'number_of_reviews',\n",
    "        'reviews_per_month',\n",
    "        'review_scores_value'\n",
    "            ]]\n",
    "    \n",
    "# Removed any rows where a column was NaN\n",
    "clean_df = clean_df.dropna()\n",
    "clean_df.head()\n",
    "\n",
    "# Renamed columns\n",
    "clean_df = clean_df.rename(columns={\n",
    "    \"id\": \"Airbnb_Id\",\n",
    "    \"neighbourhood_cleansed\": \"Neighbourhood\",\n",
    "    \"host_response_time\": \"Host_ResponseTime\",\n",
    "    \"host_is_superhost\": \"Superhost\",\n",
    "    \"host_listings_count\": \"Num_Host_Listings\",\n",
    "    \"property_type\": \"Property_Type\",\n",
    "    \"room_type\": \"Room_Type\",\n",
    "    \"bathrooms_text\": \"Num_Baths_Detailed\",\n",
    "    \"bedrooms\": \"Num_Bedrooms\",\n",
    "    \"beds\": \"Num_Bedrooms\",\n",
    "    \"price\": \"Price_per_Night\",\n",
    "    \"amenities\": \"Amenities\",\n",
    "    \"minimum_nights\": \"Minimum_Nights\",\n",
    "    \"maximum_nights\": \"Maximum_Nights\",\n",
    "    \"availability_365\": \"Availablility_365Days\",\n",
    "    \"number_of_reviews\": \"Num_Reviews\",\n",
    "    \"reviews_per_month\": \"Reviews_per_Month\",\n",
    "    \"review_scores_value\": \"Value_ReviewScore\",\n",
    "}, errors= \"raise\")\n",
    "\n",
    "\n"
   ]
  },
  {
   "cell_type": "code",
   "execution_count": 178,
   "id": "ead2ac3e",
   "metadata": {},
   "outputs": [
    {
     "name": "stdout",
     "output_type": "stream",
     "text": [
      "Airbnb_Id                  int64\n",
      "Neighbourhood             object\n",
      "Host_ResponseTime         object\n",
      "Superhost                 object\n",
      "Num_Host_Listings        float64\n",
      "Property_Type             object\n",
      "Room_Type                 object\n",
      "accommodates               int64\n",
      "Num_Baths_Detailed        object\n",
      "Num_Bedrooms             float64\n",
      "Num_Bedrooms             float64\n",
      "Amenities                 object\n",
      "Price_per_Night          float64\n",
      "Minimum_Nights             int64\n",
      "Maximum_Nights             int64\n",
      "availability_30            int64\n",
      "availability_60            int64\n",
      "availability_90            int64\n",
      "Availablility_365Days      int64\n",
      "Num_Reviews                int64\n",
      "Reviews_per_Month        float64\n",
      "Value_ReviewScore        float64\n",
      "dtype: object\n",
      "\n",
      "\n"
     ]
    }
   ],
   "source": [
    "#Converting \"Price_per_Night\" to float\n",
    "clean_df['Price_per_Night'] = clean_df['Price_per_Night'].replace('[\\$,]', '', regex=True).astype(float)\n",
    "print(clean_df.dtypes)\n",
    "print(\"\\n\")\n"
   ]
  },
  {
   "cell_type": "code",
   "execution_count": 182,
   "id": "fc4f0179",
   "metadata": {},
   "outputs": [],
   "source": [
    "#Sorting Data by \"Airbnb_Id\"\n",
    "\n",
    "clean_df=clean_df.sort_values(['Airbnb_Id'])\n",
    "\n",
    "###Create 3 New Columns :\"Minimum_Income_per_Booking\",\"Yearly_Income\", \"Monthly_Income\"###\n",
    "\n",
    "#Column \"Minimum_Income_per_Booking\" is calculated by multiplying \"Price_per_Night\" and \"Minimum_Nights\"\n",
    "\n",
    "clean_df['Minimum_Income_per_Booking']=clean_df['Price_per_Night']*clean_df['Minimum_Nights']\n",
    "\n",
    "#Column \"Monthly_Income\" is calculated by multiplying \"Minimum_Income_per_Booking\" and \"Reviews_per_Month\"\n",
    "\n",
    "    #**ASSUMPTION**: Guests may or may not leave reviews after their stay, however for our analysis purposes, we are assuming all guests leave reviews\n",
    "    #**ASSUMPTION**: Yearly and Monthly income estimates are conservative and could be higher\n",
    "\n",
    "clean_df['Monthly_Income']=clean_df['Minimum_Income_per_Booking']*clean_df['Reviews_per_Month']\n",
    "\n",
    "\n",
    "#Column \"Yearly_Income\" is calculated by multiplying \"Monthly_Income\" times \"12\n",
    "\n",
    "clean_df['Yearly_Income']=clean_df['Monthly_Income']*12\n",
    "clean_df.head()\n",
    "clean_df.to_excel(\"Vancouver_Cleaned_2.xlsx\")"
   ]
  },
  {
   "cell_type": "markdown",
   "id": "ca5d3984",
   "metadata": {},
   "source": [
    "##Questions to Answer\n",
    "#Which Neighbourhood has the highest earning house\n",
    "#What property type earns the most\n",
    "#\n"
   ]
  },
  {
   "cell_type": "code",
   "execution_count": null,
   "id": "b6ba98ec",
   "metadata": {},
   "outputs": [],
   "source": [
    "#Number of \"Unique_Bookings_per_Year\" is \"Reviws_per_Month\" multiplied by 12\n",
    "clean_df['Unique_Bookings_per_Year']=clean_df['Reviews_per_Month']*12"
   ]
  },
  {
   "cell_type": "code",
   "execution_count": null,
   "id": "4108c5e6",
   "metadata": {},
   "outputs": [],
   "source": []
  },
  {
   "cell_type": "code",
   "execution_count": null,
   "id": "41f06a09",
   "metadata": {},
   "outputs": [],
   "source": []
  }
 ],
 "metadata": {
  "kernelspec": {
   "display_name": "Python 3 (ipykernel)",
   "language": "python",
   "name": "python3"
  },
  "language_info": {
   "codemirror_mode": {
    "name": "ipython",
    "version": 3
   },
   "file_extension": ".py",
   "mimetype": "text/x-python",
   "name": "python",
   "nbconvert_exporter": "python",
   "pygments_lexer": "ipython3",
   "version": "3.8.5"
  }
 },
 "nbformat": 4,
 "nbformat_minor": 5
}
