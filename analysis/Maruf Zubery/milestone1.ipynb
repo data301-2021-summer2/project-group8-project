{
 "cells": [
  {
   "cell_type": "code",
   "execution_count": 1,
   "id": "3ad471da-1341-4931-8b3d-e916f3cf6357",
   "metadata": {},
   "outputs": [],
   "source": [
    "# Importing Panda  libraries with alias 'pd'\n",
    "import pandas as pd"
   ]
  },
  {
   "cell_type": "code",
   "execution_count": 2,
   "id": "8828184e-a54e-4a4c-b6c5-462df0c9c297",
   "metadata": {},
   "outputs": [],
   "source": [
    "# Reads the data from the file location\n",
    "data = pd.read_csv(\"../../data/raw/Vancouver.csv\")"
   ]
  },
  {
   "cell_type": "code",
   "execution_count": null,
   "id": "76f3513b-b7ec-4f7c-b169-d23551126d36",
   "metadata": {},
   "outputs": [],
   "source": [
    "# Preview the first 5 lines of the loaded data \n",
    "data.head()"
   ]
  },
  {
   "cell_type": "code",
   "execution_count": null,
   "id": "983f12f4-a703-4c72-8945-692d459090c1",
   "metadata": {},
   "outputs": [],
   "source": []
  }
 ],
 "metadata": {
  "kernelspec": {
   "display_name": "Python 3 (ipykernel)",
   "language": "python",
   "name": "python3"
  },
  "language_info": {
   "codemirror_mode": {
    "name": "ipython",
    "version": 3
   },
   "file_extension": ".py",
   "mimetype": "text/x-python",
   "name": "python",
   "nbconvert_exporter": "python",
   "pygments_lexer": "ipython3",
   "version": "3.8.5"
  }
 },
 "nbformat": 4,
 "nbformat_minor": 5
}
